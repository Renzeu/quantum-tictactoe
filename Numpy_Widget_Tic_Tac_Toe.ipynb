{
  "nbformat": 4,
  "nbformat_minor": 0,
  "metadata": {
    "colab": {
      "name": "Numpy Widget Tic-Tac-Toe.ipynb",
      "provenance": []
    },
    "kernelspec": {
      "name": "python3",
      "display_name": "Python 3"
    },
    "language_info": {
      "name": "python"
    },
    "widgets": {
      "application/vnd.jupyter.widget-state+json": {
        "b7eb74ab13e54bf89565e39be26c0087": {
          "model_module": "@jupyter-widgets/controls",
          "model_name": "ButtonModel",
          "state": {
            "_view_name": "ButtonView",
            "style": "IPY_MODEL_9a59cb1499684e5e973e3bc9077bc9ff",
            "_dom_classes": [],
            "description": "0",
            "_model_name": "ButtonModel",
            "button_style": "",
            "_view_module": "@jupyter-widgets/controls",
            "_model_module_version": "1.5.0",
            "tooltip": "",
            "_view_count": null,
            "disabled": false,
            "_view_module_version": "1.5.0",
            "layout": "IPY_MODEL_772c8d6e2c424a0989a8274ecb8f4cf8",
            "_model_module": "@jupyter-widgets/controls",
            "icon": ""
          },
          "model_module_version": "1.5.0"
        },
        "9a59cb1499684e5e973e3bc9077bc9ff": {
          "model_module": "@jupyter-widgets/controls",
          "model_name": "ButtonStyleModel",
          "state": {
            "_view_name": "StyleView",
            "_model_name": "ButtonStyleModel",
            "_view_module": "@jupyter-widgets/base",
            "_model_module_version": "1.5.0",
            "_view_count": null,
            "button_color": null,
            "font_weight": "",
            "_view_module_version": "1.2.0",
            "_model_module": "@jupyter-widgets/controls"
          },
          "model_module_version": "1.5.0"
        },
        "772c8d6e2c424a0989a8274ecb8f4cf8": {
          "model_module": "@jupyter-widgets/base",
          "model_name": "LayoutModel",
          "state": {
            "_view_name": "LayoutView",
            "grid_template_rows": null,
            "right": null,
            "justify_content": null,
            "_view_module": "@jupyter-widgets/base",
            "overflow": null,
            "_model_module_version": "1.2.0",
            "_view_count": null,
            "flex_flow": null,
            "width": null,
            "min_width": null,
            "border": null,
            "align_items": null,
            "bottom": null,
            "_model_module": "@jupyter-widgets/base",
            "top": null,
            "grid_column": null,
            "overflow_y": null,
            "overflow_x": null,
            "grid_auto_flow": null,
            "grid_area": null,
            "grid_template_columns": null,
            "flex": null,
            "_model_name": "LayoutModel",
            "justify_items": null,
            "grid_row": null,
            "max_height": null,
            "align_content": null,
            "visibility": null,
            "align_self": null,
            "height": null,
            "min_height": null,
            "padding": null,
            "grid_auto_rows": null,
            "grid_gap": null,
            "max_width": null,
            "order": null,
            "_view_module_version": "1.2.0",
            "grid_template_areas": null,
            "object_position": null,
            "object_fit": null,
            "grid_auto_columns": null,
            "margin": null,
            "display": null,
            "left": null
          },
          "model_module_version": "1.2.0"
        },
        "38fca1dc153442ef8d2bf42c9e6ff955": {
          "model_module": "@jupyter-widgets/controls",
          "model_name": "ButtonModel",
          "state": {
            "_view_name": "ButtonView",
            "style": "IPY_MODEL_e97fe8be1ebd4dbfa884cf159c54d996",
            "_dom_classes": [],
            "description": "1",
            "_model_name": "ButtonModel",
            "button_style": "",
            "_view_module": "@jupyter-widgets/controls",
            "_model_module_version": "1.5.0",
            "tooltip": "",
            "_view_count": null,
            "disabled": false,
            "_view_module_version": "1.5.0",
            "layout": "IPY_MODEL_00b5d3e9c30847c7bc3b458cdbf9b073",
            "_model_module": "@jupyter-widgets/controls",
            "icon": ""
          },
          "model_module_version": "1.5.0"
        },
        "e97fe8be1ebd4dbfa884cf159c54d996": {
          "model_module": "@jupyter-widgets/controls",
          "model_name": "ButtonStyleModel",
          "state": {
            "_view_name": "StyleView",
            "_model_name": "ButtonStyleModel",
            "_view_module": "@jupyter-widgets/base",
            "_model_module_version": "1.5.0",
            "_view_count": null,
            "button_color": null,
            "font_weight": "",
            "_view_module_version": "1.2.0",
            "_model_module": "@jupyter-widgets/controls"
          },
          "model_module_version": "1.5.0"
        },
        "00b5d3e9c30847c7bc3b458cdbf9b073": {
          "model_module": "@jupyter-widgets/base",
          "model_name": "LayoutModel",
          "state": {
            "_view_name": "LayoutView",
            "grid_template_rows": null,
            "right": null,
            "justify_content": null,
            "_view_module": "@jupyter-widgets/base",
            "overflow": null,
            "_model_module_version": "1.2.0",
            "_view_count": null,
            "flex_flow": null,
            "width": null,
            "min_width": null,
            "border": null,
            "align_items": null,
            "bottom": null,
            "_model_module": "@jupyter-widgets/base",
            "top": null,
            "grid_column": null,
            "overflow_y": null,
            "overflow_x": null,
            "grid_auto_flow": null,
            "grid_area": null,
            "grid_template_columns": null,
            "flex": null,
            "_model_name": "LayoutModel",
            "justify_items": null,
            "grid_row": null,
            "max_height": null,
            "align_content": null,
            "visibility": null,
            "align_self": null,
            "height": null,
            "min_height": null,
            "padding": null,
            "grid_auto_rows": null,
            "grid_gap": null,
            "max_width": null,
            "order": null,
            "_view_module_version": "1.2.0",
            "grid_template_areas": null,
            "object_position": null,
            "object_fit": null,
            "grid_auto_columns": null,
            "margin": null,
            "display": null,
            "left": null
          },
          "model_module_version": "1.2.0"
        },
        "736a6576b22a49b4851512fb36ae0989": {
          "model_module": "@jupyter-widgets/controls",
          "model_name": "ButtonModel",
          "state": {
            "_view_name": "ButtonView",
            "style": "IPY_MODEL_c045aacb0bc5458da3a71f1a8226e38f",
            "_dom_classes": [],
            "description": "2",
            "_model_name": "ButtonModel",
            "button_style": "",
            "_view_module": "@jupyter-widgets/controls",
            "_model_module_version": "1.5.0",
            "tooltip": "",
            "_view_count": null,
            "disabled": false,
            "_view_module_version": "1.5.0",
            "layout": "IPY_MODEL_7bc5ac8b7c2047f385a8722018fc9a67",
            "_model_module": "@jupyter-widgets/controls",
            "icon": ""
          },
          "model_module_version": "1.5.0"
        },
        "c045aacb0bc5458da3a71f1a8226e38f": {
          "model_module": "@jupyter-widgets/controls",
          "model_name": "ButtonStyleModel",
          "state": {
            "_view_name": "StyleView",
            "_model_name": "ButtonStyleModel",
            "_view_module": "@jupyter-widgets/base",
            "_model_module_version": "1.5.0",
            "_view_count": null,
            "button_color": null,
            "font_weight": "",
            "_view_module_version": "1.2.0",
            "_model_module": "@jupyter-widgets/controls"
          },
          "model_module_version": "1.5.0"
        },
        "7bc5ac8b7c2047f385a8722018fc9a67": {
          "model_module": "@jupyter-widgets/base",
          "model_name": "LayoutModel",
          "state": {
            "_view_name": "LayoutView",
            "grid_template_rows": null,
            "right": null,
            "justify_content": null,
            "_view_module": "@jupyter-widgets/base",
            "overflow": null,
            "_model_module_version": "1.2.0",
            "_view_count": null,
            "flex_flow": null,
            "width": null,
            "min_width": null,
            "border": null,
            "align_items": null,
            "bottom": null,
            "_model_module": "@jupyter-widgets/base",
            "top": null,
            "grid_column": null,
            "overflow_y": null,
            "overflow_x": null,
            "grid_auto_flow": null,
            "grid_area": null,
            "grid_template_columns": null,
            "flex": null,
            "_model_name": "LayoutModel",
            "justify_items": null,
            "grid_row": null,
            "max_height": null,
            "align_content": null,
            "visibility": null,
            "align_self": null,
            "height": null,
            "min_height": null,
            "padding": null,
            "grid_auto_rows": null,
            "grid_gap": null,
            "max_width": null,
            "order": null,
            "_view_module_version": "1.2.0",
            "grid_template_areas": null,
            "object_position": null,
            "object_fit": null,
            "grid_auto_columns": null,
            "margin": null,
            "display": null,
            "left": null
          },
          "model_module_version": "1.2.0"
        },
        "5e476afebcdf4241b588eeb9e7961e6f": {
          "model_module": "@jupyter-widgets/controls",
          "model_name": "ButtonModel",
          "state": {
            "_view_name": "ButtonView",
            "style": "IPY_MODEL_5091cb7d91c64991b90013a1012912af",
            "_dom_classes": [],
            "description": "3",
            "_model_name": "ButtonModel",
            "button_style": "",
            "_view_module": "@jupyter-widgets/controls",
            "_model_module_version": "1.5.0",
            "tooltip": "",
            "_view_count": null,
            "disabled": false,
            "_view_module_version": "1.5.0",
            "layout": "IPY_MODEL_63488d1e703e428bb8a376eb95d3a8da",
            "_model_module": "@jupyter-widgets/controls",
            "icon": ""
          },
          "model_module_version": "1.5.0"
        },
        "5091cb7d91c64991b90013a1012912af": {
          "model_module": "@jupyter-widgets/controls",
          "model_name": "ButtonStyleModel",
          "state": {
            "_view_name": "StyleView",
            "_model_name": "ButtonStyleModel",
            "_view_module": "@jupyter-widgets/base",
            "_model_module_version": "1.5.0",
            "_view_count": null,
            "button_color": null,
            "font_weight": "",
            "_view_module_version": "1.2.0",
            "_model_module": "@jupyter-widgets/controls"
          },
          "model_module_version": "1.5.0"
        },
        "63488d1e703e428bb8a376eb95d3a8da": {
          "model_module": "@jupyter-widgets/base",
          "model_name": "LayoutModel",
          "state": {
            "_view_name": "LayoutView",
            "grid_template_rows": null,
            "right": null,
            "justify_content": null,
            "_view_module": "@jupyter-widgets/base",
            "overflow": null,
            "_model_module_version": "1.2.0",
            "_view_count": null,
            "flex_flow": null,
            "width": null,
            "min_width": null,
            "border": null,
            "align_items": null,
            "bottom": null,
            "_model_module": "@jupyter-widgets/base",
            "top": null,
            "grid_column": null,
            "overflow_y": null,
            "overflow_x": null,
            "grid_auto_flow": null,
            "grid_area": null,
            "grid_template_columns": null,
            "flex": null,
            "_model_name": "LayoutModel",
            "justify_items": null,
            "grid_row": null,
            "max_height": null,
            "align_content": null,
            "visibility": null,
            "align_self": null,
            "height": null,
            "min_height": null,
            "padding": null,
            "grid_auto_rows": null,
            "grid_gap": null,
            "max_width": null,
            "order": null,
            "_view_module_version": "1.2.0",
            "grid_template_areas": null,
            "object_position": null,
            "object_fit": null,
            "grid_auto_columns": null,
            "margin": null,
            "display": null,
            "left": null
          },
          "model_module_version": "1.2.0"
        },
        "055485490ab746a1a7f154a2c9462428": {
          "model_module": "@jupyter-widgets/controls",
          "model_name": "ButtonModel",
          "state": {
            "_view_name": "ButtonView",
            "style": "IPY_MODEL_7d5dcb2476544360bd390454f914f249",
            "_dom_classes": [],
            "description": "4",
            "_model_name": "ButtonModel",
            "button_style": "",
            "_view_module": "@jupyter-widgets/controls",
            "_model_module_version": "1.5.0",
            "tooltip": "",
            "_view_count": null,
            "disabled": false,
            "_view_module_version": "1.5.0",
            "layout": "IPY_MODEL_583d9fdec41c4f10a2ec14e27215a5ef",
            "_model_module": "@jupyter-widgets/controls",
            "icon": ""
          },
          "model_module_version": "1.5.0"
        },
        "7d5dcb2476544360bd390454f914f249": {
          "model_module": "@jupyter-widgets/controls",
          "model_name": "ButtonStyleModel",
          "state": {
            "_view_name": "StyleView",
            "_model_name": "ButtonStyleModel",
            "_view_module": "@jupyter-widgets/base",
            "_model_module_version": "1.5.0",
            "_view_count": null,
            "button_color": null,
            "font_weight": "",
            "_view_module_version": "1.2.0",
            "_model_module": "@jupyter-widgets/controls"
          },
          "model_module_version": "1.5.0"
        },
        "583d9fdec41c4f10a2ec14e27215a5ef": {
          "model_module": "@jupyter-widgets/base",
          "model_name": "LayoutModel",
          "state": {
            "_view_name": "LayoutView",
            "grid_template_rows": null,
            "right": null,
            "justify_content": null,
            "_view_module": "@jupyter-widgets/base",
            "overflow": null,
            "_model_module_version": "1.2.0",
            "_view_count": null,
            "flex_flow": null,
            "width": null,
            "min_width": null,
            "border": null,
            "align_items": null,
            "bottom": null,
            "_model_module": "@jupyter-widgets/base",
            "top": null,
            "grid_column": null,
            "overflow_y": null,
            "overflow_x": null,
            "grid_auto_flow": null,
            "grid_area": null,
            "grid_template_columns": null,
            "flex": null,
            "_model_name": "LayoutModel",
            "justify_items": null,
            "grid_row": null,
            "max_height": null,
            "align_content": null,
            "visibility": null,
            "align_self": null,
            "height": null,
            "min_height": null,
            "padding": null,
            "grid_auto_rows": null,
            "grid_gap": null,
            "max_width": null,
            "order": null,
            "_view_module_version": "1.2.0",
            "grid_template_areas": null,
            "object_position": null,
            "object_fit": null,
            "grid_auto_columns": null,
            "margin": null,
            "display": null,
            "left": null
          },
          "model_module_version": "1.2.0"
        },
        "60b7a047d4004c309383d86a8742ffed": {
          "model_module": "@jupyter-widgets/controls",
          "model_name": "ButtonModel",
          "state": {
            "_view_name": "ButtonView",
            "style": "IPY_MODEL_2d5a0ed2ec1a4e538930708233eab0ab",
            "_dom_classes": [],
            "description": "5",
            "_model_name": "ButtonModel",
            "button_style": "",
            "_view_module": "@jupyter-widgets/controls",
            "_model_module_version": "1.5.0",
            "tooltip": "",
            "_view_count": null,
            "disabled": false,
            "_view_module_version": "1.5.0",
            "layout": "IPY_MODEL_126df31bfc194b07a7ed2bb06f9c4322",
            "_model_module": "@jupyter-widgets/controls",
            "icon": ""
          },
          "model_module_version": "1.5.0"
        },
        "2d5a0ed2ec1a4e538930708233eab0ab": {
          "model_module": "@jupyter-widgets/controls",
          "model_name": "ButtonStyleModel",
          "state": {
            "_view_name": "StyleView",
            "_model_name": "ButtonStyleModel",
            "_view_module": "@jupyter-widgets/base",
            "_model_module_version": "1.5.0",
            "_view_count": null,
            "button_color": null,
            "font_weight": "",
            "_view_module_version": "1.2.0",
            "_model_module": "@jupyter-widgets/controls"
          },
          "model_module_version": "1.5.0"
        },
        "126df31bfc194b07a7ed2bb06f9c4322": {
          "model_module": "@jupyter-widgets/base",
          "model_name": "LayoutModel",
          "state": {
            "_view_name": "LayoutView",
            "grid_template_rows": null,
            "right": null,
            "justify_content": null,
            "_view_module": "@jupyter-widgets/base",
            "overflow": null,
            "_model_module_version": "1.2.0",
            "_view_count": null,
            "flex_flow": null,
            "width": null,
            "min_width": null,
            "border": null,
            "align_items": null,
            "bottom": null,
            "_model_module": "@jupyter-widgets/base",
            "top": null,
            "grid_column": null,
            "overflow_y": null,
            "overflow_x": null,
            "grid_auto_flow": null,
            "grid_area": null,
            "grid_template_columns": null,
            "flex": null,
            "_model_name": "LayoutModel",
            "justify_items": null,
            "grid_row": null,
            "max_height": null,
            "align_content": null,
            "visibility": null,
            "align_self": null,
            "height": null,
            "min_height": null,
            "padding": null,
            "grid_auto_rows": null,
            "grid_gap": null,
            "max_width": null,
            "order": null,
            "_view_module_version": "1.2.0",
            "grid_template_areas": null,
            "object_position": null,
            "object_fit": null,
            "grid_auto_columns": null,
            "margin": null,
            "display": null,
            "left": null
          },
          "model_module_version": "1.2.0"
        },
        "2a2c0b6a6cff4d79b530fc64034cd05d": {
          "model_module": "@jupyter-widgets/controls",
          "model_name": "ButtonModel",
          "state": {
            "_view_name": "ButtonView",
            "style": "IPY_MODEL_0ed72e901f914399ae5f3c6c51207792",
            "_dom_classes": [],
            "description": "6",
            "_model_name": "ButtonModel",
            "button_style": "",
            "_view_module": "@jupyter-widgets/controls",
            "_model_module_version": "1.5.0",
            "tooltip": "",
            "_view_count": null,
            "disabled": false,
            "_view_module_version": "1.5.0",
            "layout": "IPY_MODEL_09c0966159df4ccdbb541a427ce45082",
            "_model_module": "@jupyter-widgets/controls",
            "icon": ""
          },
          "model_module_version": "1.5.0"
        },
        "0ed72e901f914399ae5f3c6c51207792": {
          "model_module": "@jupyter-widgets/controls",
          "model_name": "ButtonStyleModel",
          "state": {
            "_view_name": "StyleView",
            "_model_name": "ButtonStyleModel",
            "_view_module": "@jupyter-widgets/base",
            "_model_module_version": "1.5.0",
            "_view_count": null,
            "button_color": null,
            "font_weight": "",
            "_view_module_version": "1.2.0",
            "_model_module": "@jupyter-widgets/controls"
          },
          "model_module_version": "1.5.0"
        },
        "09c0966159df4ccdbb541a427ce45082": {
          "model_module": "@jupyter-widgets/base",
          "model_name": "LayoutModel",
          "state": {
            "_view_name": "LayoutView",
            "grid_template_rows": null,
            "right": null,
            "justify_content": null,
            "_view_module": "@jupyter-widgets/base",
            "overflow": null,
            "_model_module_version": "1.2.0",
            "_view_count": null,
            "flex_flow": null,
            "width": null,
            "min_width": null,
            "border": null,
            "align_items": null,
            "bottom": null,
            "_model_module": "@jupyter-widgets/base",
            "top": null,
            "grid_column": null,
            "overflow_y": null,
            "overflow_x": null,
            "grid_auto_flow": null,
            "grid_area": null,
            "grid_template_columns": null,
            "flex": null,
            "_model_name": "LayoutModel",
            "justify_items": null,
            "grid_row": null,
            "max_height": null,
            "align_content": null,
            "visibility": null,
            "align_self": null,
            "height": null,
            "min_height": null,
            "padding": null,
            "grid_auto_rows": null,
            "grid_gap": null,
            "max_width": null,
            "order": null,
            "_view_module_version": "1.2.0",
            "grid_template_areas": null,
            "object_position": null,
            "object_fit": null,
            "grid_auto_columns": null,
            "margin": null,
            "display": null,
            "left": null
          },
          "model_module_version": "1.2.0"
        },
        "1762aed2ce174e5199cdbb166a93ec68": {
          "model_module": "@jupyter-widgets/controls",
          "model_name": "ButtonModel",
          "state": {
            "_view_name": "ButtonView",
            "style": "IPY_MODEL_594c5837d4cd4cfd82fe4bc26110e8b9",
            "_dom_classes": [],
            "description": "7",
            "_model_name": "ButtonModel",
            "button_style": "",
            "_view_module": "@jupyter-widgets/controls",
            "_model_module_version": "1.5.0",
            "tooltip": "",
            "_view_count": null,
            "disabled": false,
            "_view_module_version": "1.5.0",
            "layout": "IPY_MODEL_2d950d7b015d4303ac16156f99c7076e",
            "_model_module": "@jupyter-widgets/controls",
            "icon": ""
          },
          "model_module_version": "1.5.0"
        },
        "594c5837d4cd4cfd82fe4bc26110e8b9": {
          "model_module": "@jupyter-widgets/controls",
          "model_name": "ButtonStyleModel",
          "state": {
            "_view_name": "StyleView",
            "_model_name": "ButtonStyleModel",
            "_view_module": "@jupyter-widgets/base",
            "_model_module_version": "1.5.0",
            "_view_count": null,
            "button_color": null,
            "font_weight": "",
            "_view_module_version": "1.2.0",
            "_model_module": "@jupyter-widgets/controls"
          },
          "model_module_version": "1.5.0"
        },
        "2d950d7b015d4303ac16156f99c7076e": {
          "model_module": "@jupyter-widgets/base",
          "model_name": "LayoutModel",
          "state": {
            "_view_name": "LayoutView",
            "grid_template_rows": null,
            "right": null,
            "justify_content": null,
            "_view_module": "@jupyter-widgets/base",
            "overflow": null,
            "_model_module_version": "1.2.0",
            "_view_count": null,
            "flex_flow": null,
            "width": null,
            "min_width": null,
            "border": null,
            "align_items": null,
            "bottom": null,
            "_model_module": "@jupyter-widgets/base",
            "top": null,
            "grid_column": null,
            "overflow_y": null,
            "overflow_x": null,
            "grid_auto_flow": null,
            "grid_area": null,
            "grid_template_columns": null,
            "flex": null,
            "_model_name": "LayoutModel",
            "justify_items": null,
            "grid_row": null,
            "max_height": null,
            "align_content": null,
            "visibility": null,
            "align_self": null,
            "height": null,
            "min_height": null,
            "padding": null,
            "grid_auto_rows": null,
            "grid_gap": null,
            "max_width": null,
            "order": null,
            "_view_module_version": "1.2.0",
            "grid_template_areas": null,
            "object_position": null,
            "object_fit": null,
            "grid_auto_columns": null,
            "margin": null,
            "display": null,
            "left": null
          },
          "model_module_version": "1.2.0"
        },
        "506077986019461792d1c92fe12a7065": {
          "model_module": "@jupyter-widgets/controls",
          "model_name": "ButtonModel",
          "state": {
            "_view_name": "ButtonView",
            "style": "IPY_MODEL_edc795953a3c4369838a0de0b945ea71",
            "_dom_classes": [],
            "description": "8",
            "_model_name": "ButtonModel",
            "button_style": "",
            "_view_module": "@jupyter-widgets/controls",
            "_model_module_version": "1.5.0",
            "tooltip": "",
            "_view_count": null,
            "disabled": false,
            "_view_module_version": "1.5.0",
            "layout": "IPY_MODEL_fe00d251fe8d4c6db3855fd0c17d7948",
            "_model_module": "@jupyter-widgets/controls",
            "icon": ""
          },
          "model_module_version": "1.5.0"
        },
        "edc795953a3c4369838a0de0b945ea71": {
          "model_module": "@jupyter-widgets/controls",
          "model_name": "ButtonStyleModel",
          "state": {
            "_view_name": "StyleView",
            "_model_name": "ButtonStyleModel",
            "_view_module": "@jupyter-widgets/base",
            "_model_module_version": "1.5.0",
            "_view_count": null,
            "button_color": null,
            "font_weight": "",
            "_view_module_version": "1.2.0",
            "_model_module": "@jupyter-widgets/controls"
          },
          "model_module_version": "1.5.0"
        },
        "fe00d251fe8d4c6db3855fd0c17d7948": {
          "model_module": "@jupyter-widgets/base",
          "model_name": "LayoutModel",
          "state": {
            "_view_name": "LayoutView",
            "grid_template_rows": null,
            "right": null,
            "justify_content": null,
            "_view_module": "@jupyter-widgets/base",
            "overflow": null,
            "_model_module_version": "1.2.0",
            "_view_count": null,
            "flex_flow": null,
            "width": null,
            "min_width": null,
            "border": null,
            "align_items": null,
            "bottom": null,
            "_model_module": "@jupyter-widgets/base",
            "top": null,
            "grid_column": null,
            "overflow_y": null,
            "overflow_x": null,
            "grid_auto_flow": null,
            "grid_area": null,
            "grid_template_columns": null,
            "flex": null,
            "_model_name": "LayoutModel",
            "justify_items": null,
            "grid_row": null,
            "max_height": null,
            "align_content": null,
            "visibility": null,
            "align_self": null,
            "height": null,
            "min_height": null,
            "padding": null,
            "grid_auto_rows": null,
            "grid_gap": null,
            "max_width": null,
            "order": null,
            "_view_module_version": "1.2.0",
            "grid_template_areas": null,
            "object_position": null,
            "object_fit": null,
            "grid_auto_columns": null,
            "margin": null,
            "display": null,
            "left": null
          },
          "model_module_version": "1.2.0"
        },
        "71c3efafa7d34e01a07bf3f1d6afe5b2": {
          "model_module": "@jupyter-widgets/output",
          "model_name": "OutputModel",
          "state": {
            "_view_name": "OutputView",
            "msg_id": "",
            "_dom_classes": [],
            "_model_name": "OutputModel",
            "outputs": [],
            "_view_module": "@jupyter-widgets/output",
            "_model_module_version": "1.0.0",
            "_view_count": null,
            "_view_module_version": "1.0.0",
            "layout": "IPY_MODEL_95b25a1f1f5e4a6fa63599a25f9732e7",
            "_model_module": "@jupyter-widgets/output"
          },
          "model_module_version": "1.0.0"
        },
        "95b25a1f1f5e4a6fa63599a25f9732e7": {
          "model_module": "@jupyter-widgets/base",
          "model_name": "LayoutModel",
          "state": {
            "_view_name": "LayoutView",
            "grid_template_rows": null,
            "right": null,
            "justify_content": null,
            "_view_module": "@jupyter-widgets/base",
            "overflow": null,
            "_model_module_version": "1.2.0",
            "_view_count": null,
            "flex_flow": null,
            "width": null,
            "min_width": null,
            "border": null,
            "align_items": null,
            "bottom": null,
            "_model_module": "@jupyter-widgets/base",
            "top": null,
            "grid_column": null,
            "overflow_y": null,
            "overflow_x": null,
            "grid_auto_flow": null,
            "grid_area": null,
            "grid_template_columns": null,
            "flex": null,
            "_model_name": "LayoutModel",
            "justify_items": null,
            "grid_row": null,
            "max_height": null,
            "align_content": null,
            "visibility": null,
            "align_self": null,
            "height": null,
            "min_height": null,
            "padding": null,
            "grid_auto_rows": null,
            "grid_gap": null,
            "max_width": null,
            "order": null,
            "_view_module_version": "1.2.0",
            "grid_template_areas": null,
            "object_position": null,
            "object_fit": null,
            "grid_auto_columns": null,
            "margin": null,
            "display": null,
            "left": null
          },
          "model_module_version": "1.2.0"
        }
      }
    }
  },
  "cells": [
    {
      "cell_type": "code",
      "metadata": {
        "colab": {
          "base_uri": "https://localhost:8080/",
          "height": 291,
          "referenced_widgets": [
            "b7eb74ab13e54bf89565e39be26c0087",
            "9a59cb1499684e5e973e3bc9077bc9ff",
            "772c8d6e2c424a0989a8274ecb8f4cf8",
            "38fca1dc153442ef8d2bf42c9e6ff955",
            "e97fe8be1ebd4dbfa884cf159c54d996",
            "00b5d3e9c30847c7bc3b458cdbf9b073",
            "736a6576b22a49b4851512fb36ae0989",
            "c045aacb0bc5458da3a71f1a8226e38f",
            "7bc5ac8b7c2047f385a8722018fc9a67",
            "5e476afebcdf4241b588eeb9e7961e6f",
            "5091cb7d91c64991b90013a1012912af",
            "63488d1e703e428bb8a376eb95d3a8da",
            "055485490ab746a1a7f154a2c9462428",
            "7d5dcb2476544360bd390454f914f249",
            "583d9fdec41c4f10a2ec14e27215a5ef",
            "60b7a047d4004c309383d86a8742ffed",
            "2d5a0ed2ec1a4e538930708233eab0ab",
            "126df31bfc194b07a7ed2bb06f9c4322",
            "2a2c0b6a6cff4d79b530fc64034cd05d",
            "0ed72e901f914399ae5f3c6c51207792",
            "09c0966159df4ccdbb541a427ce45082",
            "1762aed2ce174e5199cdbb166a93ec68",
            "594c5837d4cd4cfd82fe4bc26110e8b9",
            "2d950d7b015d4303ac16156f99c7076e",
            "506077986019461792d1c92fe12a7065",
            "edc795953a3c4369838a0de0b945ea71",
            "fe00d251fe8d4c6db3855fd0c17d7948",
            "71c3efafa7d34e01a07bf3f1d6afe5b2",
            "95b25a1f1f5e4a6fa63599a25f9732e7"
          ]
        },
        "id": "Tp5g0iRh5hIc",
        "outputId": "c25129fe-5168-4c49-d304-781e0c9487db"
      },
      "source": [
        "!pip install qiskit\n",
        "from qiskit import *\n",
        "from google.colab import widgets\n",
        "from __future__ import print_function\n",
        "from ipywidgets import interact, interactive, fixed, interact_manual\n",
        "import ipywidgets\n",
        "import pandas as pd\n",
        "import math\n",
        "import numpy as np\n",
        "from IPython.display import clear_output\n",
        "\n",
        "# Use Aer's statevector simulator\n",
        "simulator = Aer.get_backend('statevector_simulator')\n",
        "\n",
        "#Create a 9 register quantum circuit\n",
        "global circuit\n",
        "circuit = QuantumCircuit(9,9)\n",
        "#logic function\n",
        "def measurement_result(outputstate,measured_register,qubitnumber):\n",
        "    for index,element in enumerate(outputstate):\n",
        "        if element != 0:\n",
        "            ket = bin(index)[2:].zfill(qubitnumber)\n",
        "            print(\"The ket is |\"+str(ket) +\"> with probability amplitude \" + str(element))\n",
        "            result = ket[qubitnumber-measured_register-1] #the ket is read from right to left(|987654321>)\n",
        "            break #break the iteration since we have obtained the result\n",
        "    print(\"The qubit collapsed to \" + result)\n",
        "    return result\n",
        "\n",
        "\n",
        "def braket_notation(outputstate,qubitnumber):\n",
        "    #print out the wavefunction in braket notation.\n",
        "    #binary reads from right to left\n",
        "    ket = ''\n",
        "    for index,element in enumerate(outputstate):\n",
        "        if element != 0:\n",
        "            if ket == '':\n",
        "            #only print out states with non-zero probability amplitude\n",
        "                ket += str(element)+'|'+ bin(index)[2:].zfill(qubitnumber) +'>'\n",
        "               # print(index)\n",
        "            else:\n",
        "                ket = ket + ' + ' + str(element)+'|'+ bin(index)[2:].zfill(qubitnumber) +'>'\n",
        "               # print(index)\n",
        "    return ket\n",
        "#Create a blank window\n",
        " \n",
        "class Game:\n",
        "    # Creates a board of 3x3 board full of 0s\n",
        "    def __init__(self):\n",
        "        self.board = np.zeros((size, size), dtype=int)\n",
        " \n",
        "    def make_move(self, player, square):\n",
        "        moveX = math.floor(int(square) / 3)\n",
        "        moveY = int(square) % 3\n",
        "        if not self.available_move(player, moveX, moveY):\n",
        "            print('Move already taken!')\n",
        "            return self.check_for_winner(player)\n",
        "        self.board[moveX, moveY] = int(player)\n",
        "        tab[int(square)]['player'] = self.translatePlayer(player)\n",
        "        return self.check_for_winner(player)\n",
        " \n",
        "    # Checks if the move the the user is making is available or not.\n",
        "    def available_move(self, player, moveX, moveY):\n",
        "        if str(self.board[moveX][moveY]) == '0':\n",
        "            return True\n",
        "        return False\n",
        "\n",
        "    def translatePlayer(self, player):\n",
        "        if player == '1':\n",
        "            return 'X'\n",
        "        return 'Y'\n",
        " \n",
        "    # Cross checks the board to see if the win conditions have been met.\n",
        "    def check_for_winner(self, player):\n",
        "      updateWidgets()\n",
        "      for i in range(0, 3):\n",
        "          rows_win = (self.board[i, :] == int(player)).all()\n",
        "          cols_win = (self.board[:, i] == int(player)).all()\n",
        "          \n",
        "          if rows_win or cols_win:\n",
        "              print(self.translatePlayer(player) + ' wins!')\n",
        "              return True\n",
        "              \n",
        "      diag1_win = (np.diag(self.board) == int(player)).all()\n",
        "      diag2_win = (np.diag(np.fliplr(self.board)) == int(player)).all()\n",
        "      \n",
        "      if diag1_win or diag2_win:\n",
        "          print(self.translatePlayer(player) + ' wins!')\n",
        "          return True\n",
        "\n",
        "      if not 0 in self.board:\n",
        "          print('Tie game!')\n",
        "          return True\n",
        "      return False\n",
        "\n",
        "size = 3\n",
        "game = Game()\n",
        "tab = []\n",
        "button_list = []\n",
        "player1 = True\n",
        "qc = QuantumCircuit(1, 1)\n",
        "\n",
        "#Game Function\n",
        "def handle_game(b):\n",
        "  global player1\n",
        "  if player1:\n",
        "      game.make_move('1', b.description)\n",
        "  else:\n",
        "      game.make_move('2', b.description)\n",
        "  player1 = not player1\n",
        "\n",
        "def updateWidgets():\n",
        "  clear_output()\n",
        "  grid = widgets.Grid(1, 3, header_row=True, header_column=True) \n",
        "  for mul in range(size):\n",
        "        for (row, col) in grid:\n",
        "            index = row*3+col\n",
        "            print(\"\\n\"+tab[index + mul * 3]['player']+\"\\n\")\n",
        "            display(button_list[index + mul * 3])\n",
        "\n",
        "def initialize():\n",
        "    output = ipywidgets.widgets.Output()\n",
        "    for i in range(0,9):\n",
        "        tab.append({'default':str(i), 'player':' '})\n",
        "\n",
        "    #Create buttons\n",
        "    for i in range(0,9):\n",
        "        button = ipywidgets.widgets.Button(description=tab[i]['default'])\n",
        "        button.on_click(handle_game)\n",
        "        button_list.append(button)\n",
        "\n",
        "    updateWidgets()\n",
        "    display(output)  \n",
        "\n",
        "initialize()"
      ],
      "execution_count": null,
      "outputs": [
        {
          "output_type": "display_data",
          "data": {
            "text/html": [
              "<style>\n",
              "       table#id12, #id12 > tbody > tr > th, #id12 > tbody > tr > td {\n",
              "         border: 1px solid lightgray;\n",
              "         border-collapse:collapse;\n",
              "         \n",
              "        }</style>"
            ],
            "text/plain": [
              "<IPython.core.display.HTML object>"
            ]
          },
          "metadata": {
            "tags": [
              "outputarea_id12"
            ]
          }
        },
        {
          "output_type": "display_data",
          "data": {
            "text/html": [
              "<table id=id12><tr><th id=id12-0-0></th><th id=id12-0-1></th><th id=id12-0-2></th></tr></table>"
            ],
            "text/plain": [
              "<IPython.core.display.HTML object>"
            ]
          },
          "metadata": {
            "tags": [
              "outputarea_id12"
            ]
          }
        },
        {
          "output_type": "display_data",
          "data": {
            "application/javascript": [
              "window[\"e48a15e4-b22e-11eb-8e47-0242ac1c0002\"] = google.colab.output.getActiveOutputArea();\n",
              "//# sourceURL=js_4d65dca0f4"
            ],
            "text/plain": [
              "<IPython.core.display.Javascript object>"
            ]
          },
          "metadata": {
            "tags": [
              "id12-0-0",
              "outputarea_id12"
            ]
          }
        },
        {
          "output_type": "display_data",
          "data": {
            "application/javascript": [
              "window[\"e48ac1c4-b22e-11eb-8e47-0242ac1c0002\"] = document.querySelector(\"#id12-0-0\");\n",
              "//# sourceURL=js_dd3b7042d6"
            ],
            "text/plain": [
              "<IPython.core.display.Javascript object>"
            ]
          },
          "metadata": {
            "tags": [
              "id12-0-0",
              "outputarea_id12"
            ]
          }
        },
        {
          "output_type": "display_data",
          "data": {
            "application/javascript": [
              "window[\"e48b6c78-b22e-11eb-8e47-0242ac1c0002\"] = google.colab.output.setActiveOutputArea(window[\"e48ac1c4-b22e-11eb-8e47-0242ac1c0002\"]);\n",
              "//# sourceURL=js_288e3fdffc"
            ],
            "text/plain": [
              "<IPython.core.display.Javascript object>"
            ]
          },
          "metadata": {
            "tags": [
              "id12-0-0",
              "outputarea_id12"
            ]
          }
        },
        {
          "output_type": "stream",
          "text": [
            "\n",
            "X\n",
            "\n"
          ],
          "name": "stdout"
        },
        {
          "output_type": "display_data",
          "data": {
            "application/vnd.jupyter.widget-view+json": {
              "model_id": "b7eb74ab13e54bf89565e39be26c0087",
              "version_minor": 0,
              "version_major": 2
            },
            "text/plain": [
              "Button(description='0', style=ButtonStyle())"
            ]
          },
          "metadata": {
            "tags": [
              "id12-0-0",
              "outputarea_id12",
              "user_output"
            ]
          }
        },
        {
          "output_type": "display_data",
          "data": {
            "application/javascript": [
              "window[\"e48f6e90-b22e-11eb-8e47-0242ac1c0002\"] = google.colab.output.setActiveOutputArea(window[\"e48a15e4-b22e-11eb-8e47-0242ac1c0002\"]);\n",
              "//# sourceURL=js_1a35080348"
            ],
            "text/plain": [
              "<IPython.core.display.Javascript object>"
            ]
          },
          "metadata": {
            "tags": [
              "id12-0-0",
              "outputarea_id12"
            ]
          }
        },
        {
          "output_type": "display_data",
          "data": {
            "application/javascript": [
              "window[\"e4936338-b22e-11eb-8e47-0242ac1c0002\"] = google.colab.output.getActiveOutputArea();\n",
              "//# sourceURL=js_2cf9315065"
            ],
            "text/plain": [
              "<IPython.core.display.Javascript object>"
            ]
          },
          "metadata": {
            "tags": [
              "id12-0-1",
              "outputarea_id12"
            ]
          }
        },
        {
          "output_type": "display_data",
          "data": {
            "application/javascript": [
              "window[\"e493f41a-b22e-11eb-8e47-0242ac1c0002\"] = document.querySelector(\"#id12-0-1\");\n",
              "//# sourceURL=js_d5486721e5"
            ],
            "text/plain": [
              "<IPython.core.display.Javascript object>"
            ]
          },
          "metadata": {
            "tags": [
              "id12-0-1",
              "outputarea_id12"
            ]
          }
        },
        {
          "output_type": "display_data",
          "data": {
            "application/javascript": [
              "window[\"e4946792-b22e-11eb-8e47-0242ac1c0002\"] = google.colab.output.setActiveOutputArea(window[\"e493f41a-b22e-11eb-8e47-0242ac1c0002\"]);\n",
              "//# sourceURL=js_6e316f20c4"
            ],
            "text/plain": [
              "<IPython.core.display.Javascript object>"
            ]
          },
          "metadata": {
            "tags": [
              "id12-0-1",
              "outputarea_id12"
            ]
          }
        },
        {
          "output_type": "stream",
          "text": [
            "\n",
            "Y\n",
            "\n"
          ],
          "name": "stdout"
        },
        {
          "output_type": "display_data",
          "data": {
            "application/vnd.jupyter.widget-view+json": {
              "model_id": "38fca1dc153442ef8d2bf42c9e6ff955",
              "version_minor": 0,
              "version_major": 2
            },
            "text/plain": [
              "Button(description='1', style=ButtonStyle())"
            ]
          },
          "metadata": {
            "tags": [
              "id12-0-1",
              "outputarea_id12",
              "user_output"
            ]
          }
        },
        {
          "output_type": "display_data",
          "data": {
            "application/javascript": [
              "window[\"e496fb2e-b22e-11eb-8e47-0242ac1c0002\"] = google.colab.output.setActiveOutputArea(window[\"e4936338-b22e-11eb-8e47-0242ac1c0002\"]);\n",
              "//# sourceURL=js_26772c0a89"
            ],
            "text/plain": [
              "<IPython.core.display.Javascript object>"
            ]
          },
          "metadata": {
            "tags": [
              "id12-0-1",
              "outputarea_id12"
            ]
          }
        },
        {
          "output_type": "display_data",
          "data": {
            "application/javascript": [
              "window[\"e49a7952-b22e-11eb-8e47-0242ac1c0002\"] = google.colab.output.getActiveOutputArea();\n",
              "//# sourceURL=js_39e3c771ee"
            ],
            "text/plain": [
              "<IPython.core.display.Javascript object>"
            ]
          },
          "metadata": {
            "tags": [
              "id12-0-2",
              "outputarea_id12"
            ]
          }
        },
        {
          "output_type": "display_data",
          "data": {
            "application/javascript": [
              "window[\"e49ae176-b22e-11eb-8e47-0242ac1c0002\"] = document.querySelector(\"#id12-0-2\");\n",
              "//# sourceURL=js_78859781d3"
            ],
            "text/plain": [
              "<IPython.core.display.Javascript object>"
            ]
          },
          "metadata": {
            "tags": [
              "id12-0-2",
              "outputarea_id12"
            ]
          }
        },
        {
          "output_type": "display_data",
          "data": {
            "application/javascript": [
              "window[\"e49b4e2c-b22e-11eb-8e47-0242ac1c0002\"] = google.colab.output.setActiveOutputArea(window[\"e49ae176-b22e-11eb-8e47-0242ac1c0002\"]);\n",
              "//# sourceURL=js_1c05f86320"
            ],
            "text/plain": [
              "<IPython.core.display.Javascript object>"
            ]
          },
          "metadata": {
            "tags": [
              "id12-0-2",
              "outputarea_id12"
            ]
          }
        },
        {
          "output_type": "stream",
          "text": [
            "\n",
            " \n",
            "\n"
          ],
          "name": "stdout"
        },
        {
          "output_type": "display_data",
          "data": {
            "application/vnd.jupyter.widget-view+json": {
              "model_id": "736a6576b22a49b4851512fb36ae0989",
              "version_minor": 0,
              "version_major": 2
            },
            "text/plain": [
              "Button(description='2', style=ButtonStyle())"
            ]
          },
          "metadata": {
            "tags": [
              "id12-0-2",
              "outputarea_id12",
              "user_output"
            ]
          }
        },
        {
          "output_type": "display_data",
          "data": {
            "application/javascript": [
              "window[\"e49d49d4-b22e-11eb-8e47-0242ac1c0002\"] = google.colab.output.setActiveOutputArea(window[\"e49a7952-b22e-11eb-8e47-0242ac1c0002\"]);\n",
              "//# sourceURL=js_95f8278e2a"
            ],
            "text/plain": [
              "<IPython.core.display.Javascript object>"
            ]
          },
          "metadata": {
            "tags": [
              "id12-0-2",
              "outputarea_id12"
            ]
          }
        },
        {
          "output_type": "display_data",
          "data": {
            "application/javascript": [
              "window[\"e49fe946-b22e-11eb-8e47-0242ac1c0002\"] = google.colab.output.getActiveOutputArea();\n",
              "//# sourceURL=js_7db4ac3810"
            ],
            "text/plain": [
              "<IPython.core.display.Javascript object>"
            ]
          },
          "metadata": {
            "tags": [
              "id12-0-0",
              "outputarea_id12"
            ]
          }
        },
        {
          "output_type": "display_data",
          "data": {
            "application/javascript": [
              "window[\"e4a09dd2-b22e-11eb-8e47-0242ac1c0002\"] = document.querySelector(\"#id12-0-0\");\n",
              "//# sourceURL=js_276d063d0d"
            ],
            "text/plain": [
              "<IPython.core.display.Javascript object>"
            ]
          },
          "metadata": {
            "tags": [
              "id12-0-0",
              "outputarea_id12"
            ]
          }
        },
        {
          "output_type": "display_data",
          "data": {
            "application/javascript": [
              "window[\"e4a0e170-b22e-11eb-8e47-0242ac1c0002\"] = google.colab.output.setActiveOutputArea(window[\"e4a09dd2-b22e-11eb-8e47-0242ac1c0002\"]);\n",
              "//# sourceURL=js_0781fd7a94"
            ],
            "text/plain": [
              "<IPython.core.display.Javascript object>"
            ]
          },
          "metadata": {
            "tags": [
              "id12-0-0",
              "outputarea_id12"
            ]
          }
        },
        {
          "output_type": "stream",
          "text": [
            "\n",
            " \n",
            "\n"
          ],
          "name": "stdout"
        },
        {
          "output_type": "display_data",
          "data": {
            "application/vnd.jupyter.widget-view+json": {
              "model_id": "5e476afebcdf4241b588eeb9e7961e6f",
              "version_minor": 0,
              "version_major": 2
            },
            "text/plain": [
              "Button(description='3', style=ButtonStyle())"
            ]
          },
          "metadata": {
            "tags": [
              "id12-0-0",
              "outputarea_id12",
              "user_output"
            ]
          }
        },
        {
          "output_type": "display_data",
          "data": {
            "application/javascript": [
              "window[\"e4a40ca6-b22e-11eb-8e47-0242ac1c0002\"] = google.colab.output.setActiveOutputArea(window[\"e49fe946-b22e-11eb-8e47-0242ac1c0002\"]);\n",
              "//# sourceURL=js_debb0eeb0e"
            ],
            "text/plain": [
              "<IPython.core.display.Javascript object>"
            ]
          },
          "metadata": {
            "tags": [
              "id12-0-0",
              "outputarea_id12"
            ]
          }
        },
        {
          "output_type": "display_data",
          "data": {
            "application/javascript": [
              "window[\"e4a8efc8-b22e-11eb-8e47-0242ac1c0002\"] = google.colab.output.getActiveOutputArea();\n",
              "//# sourceURL=js_5d258806c0"
            ],
            "text/plain": [
              "<IPython.core.display.Javascript object>"
            ]
          },
          "metadata": {
            "tags": [
              "id12-0-1",
              "outputarea_id12"
            ]
          }
        },
        {
          "output_type": "display_data",
          "data": {
            "application/javascript": [
              "window[\"e4a975f6-b22e-11eb-8e47-0242ac1c0002\"] = document.querySelector(\"#id12-0-1\");\n",
              "//# sourceURL=js_f95b357837"
            ],
            "text/plain": [
              "<IPython.core.display.Javascript object>"
            ]
          },
          "metadata": {
            "tags": [
              "id12-0-1",
              "outputarea_id12"
            ]
          }
        },
        {
          "output_type": "display_data",
          "data": {
            "application/javascript": [
              "window[\"e4aa14ca-b22e-11eb-8e47-0242ac1c0002\"] = google.colab.output.setActiveOutputArea(window[\"e4a975f6-b22e-11eb-8e47-0242ac1c0002\"]);\n",
              "//# sourceURL=js_36f5eef6f6"
            ],
            "text/plain": [
              "<IPython.core.display.Javascript object>"
            ]
          },
          "metadata": {
            "tags": [
              "id12-0-1",
              "outputarea_id12"
            ]
          }
        },
        {
          "output_type": "stream",
          "text": [
            "\n",
            "X\n",
            "\n"
          ],
          "name": "stdout"
        },
        {
          "output_type": "display_data",
          "data": {
            "application/vnd.jupyter.widget-view+json": {
              "model_id": "055485490ab746a1a7f154a2c9462428",
              "version_minor": 0,
              "version_major": 2
            },
            "text/plain": [
              "Button(description='4', style=ButtonStyle())"
            ]
          },
          "metadata": {
            "tags": [
              "id12-0-1",
              "outputarea_id12",
              "user_output"
            ]
          }
        },
        {
          "output_type": "display_data",
          "data": {
            "application/javascript": [
              "window[\"e4ab7950-b22e-11eb-8e47-0242ac1c0002\"] = google.colab.output.setActiveOutputArea(window[\"e4a8efc8-b22e-11eb-8e47-0242ac1c0002\"]);\n",
              "//# sourceURL=js_73bb0786ae"
            ],
            "text/plain": [
              "<IPython.core.display.Javascript object>"
            ]
          },
          "metadata": {
            "tags": [
              "id12-0-1",
              "outputarea_id12"
            ]
          }
        },
        {
          "output_type": "display_data",
          "data": {
            "application/javascript": [
              "window[\"e4ad3c7c-b22e-11eb-8e47-0242ac1c0002\"] = google.colab.output.getActiveOutputArea();\n",
              "//# sourceURL=js_74d872ebce"
            ],
            "text/plain": [
              "<IPython.core.display.Javascript object>"
            ]
          },
          "metadata": {
            "tags": [
              "id12-0-2",
              "outputarea_id12"
            ]
          }
        },
        {
          "output_type": "display_data",
          "data": {
            "application/javascript": [
              "window[\"e4ad8a1a-b22e-11eb-8e47-0242ac1c0002\"] = document.querySelector(\"#id12-0-2\");\n",
              "//# sourceURL=js_77dc172b49"
            ],
            "text/plain": [
              "<IPython.core.display.Javascript object>"
            ]
          },
          "metadata": {
            "tags": [
              "id12-0-2",
              "outputarea_id12"
            ]
          }
        },
        {
          "output_type": "display_data",
          "data": {
            "application/javascript": [
              "window[\"e4ade51e-b22e-11eb-8e47-0242ac1c0002\"] = google.colab.output.setActiveOutputArea(window[\"e4ad8a1a-b22e-11eb-8e47-0242ac1c0002\"]);\n",
              "//# sourceURL=js_450bad3872"
            ],
            "text/plain": [
              "<IPython.core.display.Javascript object>"
            ]
          },
          "metadata": {
            "tags": [
              "id12-0-2",
              "outputarea_id12"
            ]
          }
        },
        {
          "output_type": "stream",
          "text": [
            "\n",
            "Y\n",
            "\n"
          ],
          "name": "stdout"
        },
        {
          "output_type": "display_data",
          "data": {
            "application/vnd.jupyter.widget-view+json": {
              "model_id": "60b7a047d4004c309383d86a8742ffed",
              "version_minor": 0,
              "version_major": 2
            },
            "text/plain": [
              "Button(description='5', style=ButtonStyle())"
            ]
          },
          "metadata": {
            "tags": [
              "id12-0-2",
              "outputarea_id12",
              "user_output"
            ]
          }
        },
        {
          "output_type": "display_data",
          "data": {
            "application/javascript": [
              "window[\"e4af953a-b22e-11eb-8e47-0242ac1c0002\"] = google.colab.output.setActiveOutputArea(window[\"e4ad3c7c-b22e-11eb-8e47-0242ac1c0002\"]);\n",
              "//# sourceURL=js_734638b33b"
            ],
            "text/plain": [
              "<IPython.core.display.Javascript object>"
            ]
          },
          "metadata": {
            "tags": [
              "id12-0-2",
              "outputarea_id12"
            ]
          }
        },
        {
          "output_type": "display_data",
          "data": {
            "application/javascript": [
              "window[\"e4b18868-b22e-11eb-8e47-0242ac1c0002\"] = google.colab.output.getActiveOutputArea();\n",
              "//# sourceURL=js_4213602a09"
            ],
            "text/plain": [
              "<IPython.core.display.Javascript object>"
            ]
          },
          "metadata": {
            "tags": [
              "id12-0-0",
              "outputarea_id12"
            ]
          }
        },
        {
          "output_type": "display_data",
          "data": {
            "application/javascript": [
              "window[\"e4b1e31c-b22e-11eb-8e47-0242ac1c0002\"] = document.querySelector(\"#id12-0-0\");\n",
              "//# sourceURL=js_c89833fdba"
            ],
            "text/plain": [
              "<IPython.core.display.Javascript object>"
            ]
          },
          "metadata": {
            "tags": [
              "id12-0-0",
              "outputarea_id12"
            ]
          }
        },
        {
          "output_type": "display_data",
          "data": {
            "application/javascript": [
              "window[\"e4b243f2-b22e-11eb-8e47-0242ac1c0002\"] = google.colab.output.setActiveOutputArea(window[\"e4b1e31c-b22e-11eb-8e47-0242ac1c0002\"]);\n",
              "//# sourceURL=js_4e135fb68a"
            ],
            "text/plain": [
              "<IPython.core.display.Javascript object>"
            ]
          },
          "metadata": {
            "tags": [
              "id12-0-0",
              "outputarea_id12"
            ]
          }
        },
        {
          "output_type": "stream",
          "text": [
            "\n",
            " \n",
            "\n"
          ],
          "name": "stdout"
        },
        {
          "output_type": "display_data",
          "data": {
            "application/vnd.jupyter.widget-view+json": {
              "model_id": "2a2c0b6a6cff4d79b530fc64034cd05d",
              "version_minor": 0,
              "version_major": 2
            },
            "text/plain": [
              "Button(description='6', style=ButtonStyle())"
            ]
          },
          "metadata": {
            "tags": [
              "id12-0-0",
              "outputarea_id12",
              "user_output"
            ]
          }
        },
        {
          "output_type": "display_data",
          "data": {
            "application/javascript": [
              "window[\"e4b4055c-b22e-11eb-8e47-0242ac1c0002\"] = google.colab.output.setActiveOutputArea(window[\"e4b18868-b22e-11eb-8e47-0242ac1c0002\"]);\n",
              "//# sourceURL=js_b50a5fb614"
            ],
            "text/plain": [
              "<IPython.core.display.Javascript object>"
            ]
          },
          "metadata": {
            "tags": [
              "id12-0-0",
              "outputarea_id12"
            ]
          }
        },
        {
          "output_type": "display_data",
          "data": {
            "application/javascript": [
              "window[\"e4b5c6da-b22e-11eb-8e47-0242ac1c0002\"] = google.colab.output.getActiveOutputArea();\n",
              "//# sourceURL=js_ca54a63e10"
            ],
            "text/plain": [
              "<IPython.core.display.Javascript object>"
            ]
          },
          "metadata": {
            "tags": [
              "id12-0-1",
              "outputarea_id12"
            ]
          }
        },
        {
          "output_type": "display_data",
          "data": {
            "application/javascript": [
              "window[\"e4b61bbc-b22e-11eb-8e47-0242ac1c0002\"] = document.querySelector(\"#id12-0-1\");\n",
              "//# sourceURL=js_139241e18e"
            ],
            "text/plain": [
              "<IPython.core.display.Javascript object>"
            ]
          },
          "metadata": {
            "tags": [
              "id12-0-1",
              "outputarea_id12"
            ]
          }
        },
        {
          "output_type": "display_data",
          "data": {
            "application/javascript": [
              "window[\"e4b679a4-b22e-11eb-8e47-0242ac1c0002\"] = google.colab.output.setActiveOutputArea(window[\"e4b61bbc-b22e-11eb-8e47-0242ac1c0002\"]);\n",
              "//# sourceURL=js_a203b749da"
            ],
            "text/plain": [
              "<IPython.core.display.Javascript object>"
            ]
          },
          "metadata": {
            "tags": [
              "id12-0-1",
              "outputarea_id12"
            ]
          }
        },
        {
          "output_type": "stream",
          "text": [
            "\n",
            " \n",
            "\n"
          ],
          "name": "stdout"
        },
        {
          "output_type": "display_data",
          "data": {
            "application/vnd.jupyter.widget-view+json": {
              "model_id": "1762aed2ce174e5199cdbb166a93ec68",
              "version_minor": 0,
              "version_major": 2
            },
            "text/plain": [
              "Button(description='7', style=ButtonStyle())"
            ]
          },
          "metadata": {
            "tags": [
              "id12-0-1",
              "outputarea_id12",
              "user_output"
            ]
          }
        },
        {
          "output_type": "display_data",
          "data": {
            "application/javascript": [
              "window[\"e4b824de-b22e-11eb-8e47-0242ac1c0002\"] = google.colab.output.setActiveOutputArea(window[\"e4b5c6da-b22e-11eb-8e47-0242ac1c0002\"]);\n",
              "//# sourceURL=js_c139bf33c6"
            ],
            "text/plain": [
              "<IPython.core.display.Javascript object>"
            ]
          },
          "metadata": {
            "tags": [
              "id12-0-1",
              "outputarea_id12"
            ]
          }
        },
        {
          "output_type": "display_data",
          "data": {
            "application/javascript": [
              "window[\"e4ba1154-b22e-11eb-8e47-0242ac1c0002\"] = google.colab.output.getActiveOutputArea();\n",
              "//# sourceURL=js_b865f066e7"
            ],
            "text/plain": [
              "<IPython.core.display.Javascript object>"
            ]
          },
          "metadata": {
            "tags": [
              "id12-0-2",
              "outputarea_id12"
            ]
          }
        },
        {
          "output_type": "display_data",
          "data": {
            "application/javascript": [
              "window[\"e4ba6e88-b22e-11eb-8e47-0242ac1c0002\"] = document.querySelector(\"#id12-0-2\");\n",
              "//# sourceURL=js_ed9afba730"
            ],
            "text/plain": [
              "<IPython.core.display.Javascript object>"
            ]
          },
          "metadata": {
            "tags": [
              "id12-0-2",
              "outputarea_id12"
            ]
          }
        },
        {
          "output_type": "display_data",
          "data": {
            "application/javascript": [
              "window[\"e4bac27a-b22e-11eb-8e47-0242ac1c0002\"] = google.colab.output.setActiveOutputArea(window[\"e4ba6e88-b22e-11eb-8e47-0242ac1c0002\"]);\n",
              "//# sourceURL=js_612bb0d1c6"
            ],
            "text/plain": [
              "<IPython.core.display.Javascript object>"
            ]
          },
          "metadata": {
            "tags": [
              "id12-0-2",
              "outputarea_id12"
            ]
          }
        },
        {
          "output_type": "stream",
          "text": [
            "\n",
            "X\n",
            "\n"
          ],
          "name": "stdout"
        },
        {
          "output_type": "display_data",
          "data": {
            "application/vnd.jupyter.widget-view+json": {
              "model_id": "506077986019461792d1c92fe12a7065",
              "version_minor": 0,
              "version_major": 2
            },
            "text/plain": [
              "Button(description='8', style=ButtonStyle())"
            ]
          },
          "metadata": {
            "tags": [
              "id12-0-2",
              "outputarea_id12",
              "user_output"
            ]
          }
        },
        {
          "output_type": "display_data",
          "data": {
            "application/javascript": [
              "window[\"e4bc831c-b22e-11eb-8e47-0242ac1c0002\"] = google.colab.output.setActiveOutputArea(window[\"e4ba1154-b22e-11eb-8e47-0242ac1c0002\"]);\n",
              "//# sourceURL=js_a467a3179a"
            ],
            "text/plain": [
              "<IPython.core.display.Javascript object>"
            ]
          },
          "metadata": {
            "tags": [
              "id12-0-2",
              "outputarea_id12"
            ]
          }
        },
        {
          "output_type": "stream",
          "text": [
            "X wins!\n"
          ],
          "name": "stdout"
        }
      ]
    }
  ]
}