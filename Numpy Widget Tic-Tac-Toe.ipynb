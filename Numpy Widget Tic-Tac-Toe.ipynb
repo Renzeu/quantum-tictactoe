!pip install qiskit
from qiskit import *
from google.colab import widgets
from __future__ import print_function
from ipywidgets import interact, interactive, fixed, interact_manual
import ipywidgets
import pandas as pd
import math
import numpy as np
from IPython.display import clear_output

# Use Aer's statevector simulator
simulator = Aer.get_backend('statevector_simulator')

#Create a 9 register quantum circuit
global circuit
circuit = QuantumCircuit(9,9)
#logic function
def measurement_result(outputstate,measured_register,qubitnumber):
    for index,element in enumerate(outputstate):
        if element != 0:
            ket = bin(index)[2:].zfill(qubitnumber)
            print("The ket is |"+str(ket) +"> with probability amplitude " + str(element))
            result = ket[qubitnumber-measured_register-1] #the ket is read from right to left(|987654321>)
            break #break the iteration since we have obtained the result
    print("The qubit collapsed to " + result)
    return result


def braket_notation(outputstate,qubitnumber):
    #print out the wavefunction in braket notation.
    #binary reads from right to left
    ket = ''
    for index,element in enumerate(outputstate):
        if element != 0:
            if ket == '':
            #only print out states with non-zero probability amplitude
                ket += str(element)+'|'+ bin(index)[2:].zfill(qubitnumber) +'>'
               # print(index)
            else:
                ket = ket + ' + ' + str(element)+'|'+ bin(index)[2:].zfill(qubitnumber) +'>'
               # print(index)
    return ket
#Create a blank window
 
class Game:
    # Creates a board of 3x3 board full of 0s
    def __init__(self):
        self.board = np.zeros((size, size), dtype=int)
 
    def make_move(self, player, square):
        moveX = math.floor(int(square) / 3)
        moveY = int(square) % 3
        if not self.available_move(player, moveX, moveY):
            print('Move already taken!')
            return self.check_for_winner(player)
        self.board[moveX, moveY] = int(player)
        tab[int(square)]['player'] = self.translatePlayer(player)
        return self.check_for_winner(player)
 
    # Checks if the move the the user is making is available or not.
    def available_move(self, player, moveX, moveY):
        if str(self.board[moveX][moveY]) == '0':
            return True
        return False

    def translatePlayer(self, player):
        if player == '1':
            return 'X'
        return 'Y'
 
    # Cross checks the board to see if the win conditions have been met.
    def check_for_winner(self, player):
      updateWidgets()
      for i in range(0, 3):
          rows_win = (self.board[i, :] == int(player)).all()
          cols_win = (self.board[:, i] == int(player)).all()
          
          if rows_win or cols_win:
              print(self.translatePlayer(player) + ' wins!')
              return True
              
      diag1_win = (np.diag(self.board) == int(player)).all()
      diag2_win = (np.diag(np.fliplr(self.board)) == int(player)).all()
      
      if diag1_win or diag2_win:
          print(self.translatePlayer(player) + ' wins!')
          return True

      if not 0 in self.board:
          print('Tie game!')
          return True
      return False

size = 3
game = Game()
tab = []
button_list = []
player1 = True
qc = QuantumCircuit(1, 1)

#Game Function
def handle_game(b):
  global player1
  if player1:
      game.make_move('1', b.description)
  else:
      game.make_move('2', b.description)
  player1 = not player1

def updateWidgets():
  clear_output()
  grid = widgets.Grid(1, 3, header_row=True, header_column=True) 
  for mul in range(size):
        for (row, col) in grid:
            index = row*3+col
            print("\n"+tab[index + mul * 3]['player']+"\n")
            display(button_list[index + mul * 3])

def initialize():
    output = ipywidgets.widgets.Output()
    for i in range(0,9):
        tab.append({'default':str(i), 'player':' '})

    #Create buttons
    for i in range(0,9):
        button = ipywidgets.widgets.Button(description=tab[i]['default'])
        button.on_click(handle_game)
        button_list.append(button)

    updateWidgets()
    display(output)  

initialize()
